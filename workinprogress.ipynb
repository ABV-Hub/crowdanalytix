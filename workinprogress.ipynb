{
  "nbformat": 4,
  "nbformat_minor": 0,
  "metadata": {
    "colab": {
      "name": "workinprogress.ipynb",
      "provenance": [],
      "include_colab_link": true
    },
    "kernelspec": {
      "name": "python3",
      "display_name": "Python 3"
    },
    "accelerator": "GPU"
  },
  "cells": [
    {
      "cell_type": "markdown",
      "metadata": {
        "id": "view-in-github",
        "colab_type": "text"
      },
      "source": [
        "<a href=\"https://colab.research.google.com/github/andygoosh/crowdanalytix/blob/master/workinprogress.ipynb\" target=\"_parent\"><img src=\"https://colab.research.google.com/assets/colab-badge.svg\" alt=\"Open In Colab\"/></a>"
      ]
    },
    {
      "cell_type": "code",
      "metadata": {
        "id": "YdIZDgRzBDS4",
        "colab_type": "code",
        "outputId": "e1540d02-b78b-474b-fa73-df8011a942f1",
        "colab": {
          "base_uri": "https://localhost:8080/",
          "height": 445
        }
      },
      "source": [
        "!pip3 install scikit-plot\n",
        "\n",
        "import sklearn\n",
        "if '0.22' != sklearn.__version__:\n",
        "  !pip install -U scikit-learn\n",
        "  import os\n",
        "  os.kill(os.getpid(), 9)\n",
        "\n",
        "%pylab inline\n",
        "plt.style.use(\"bmh\")\n",
        "plt.rcParams[\"figure.figsize\"] = (6,6)\n",
        "\n",
        "try:\n",
        "  # %tensorflow_version only exists in Colab.\n",
        "  %tensorflow_version 2.x\n",
        "except Exception:\n",
        "  pass\n",
        "\n",
        "import random as rn\n",
        "import pandas as pd\n",
        "import xarray\n",
        "import requests\n",
        "import datetime\n",
        "\n",
        "import os\n",
        "import numpy as np\n",
        "from datetime import timedelta\n",
        "from tqdm import tqdm_notebook as tqdm\n",
        "import sklearn as skl\n",
        "import seaborn as sns\n",
        "import xgboost as xgb\n",
        "from pathlib import Path\n",
        "import scikitplot as skplt\n",
        "from google.colab import files, drive\n",
        "from scipy.stats import uniform as sp_randFloat\n",
        "from scipy.stats import randint as sp_randInt\n",
        "import sklearn\n",
        "\n",
        "import tensorflow as tf\n",
        "import tensorflow.keras as keras\n",
        "\n",
        "print(tf.test.gpu_device_name())\n",
        "print(tf.__version__)\n",
        "print(keras.__version__)\n",
        "print(sklearn.__version__)\n",
        "#assert ('0.22' == sklearn.__version__)\n",
        "\n",
        "from keras import layers\n",
        "from keras.callbacks import TensorBoard\n",
        "from xgboost import XGBClassifier\n",
        "from lightgbm import LGBMClassifier\n",
        "from sklearn.ensemble import GradientBoostingClassifier\n",
        "from sklearn.model_selection import GridSearchCV, StratifiedKFold, KFold, RandomizedSearchCV, cross_val_score, cross_val_score\n",
        "from sklearn.calibration import CalibratedClassifierCV\n",
        "from imblearn.over_sampling import SMOTE\n",
        "from imblearn.under_sampling import RandomUnderSampler\n",
        "from sklearn.utils import resample\n",
        "from sklearn.pipeline import make_pipeline\n",
        "if sklearn.__version__ == '0.22':\n",
        "  from sklearn.inspection import permutation_importance\n",
        "from sklearn.model_selection import train_test_split\n",
        "from sklearn.preprocessing import OneHotEncoder\n",
        "from sklearn.decomposition import PCA\n",
        "import sklearn.ensemble\n",
        "\n",
        "import warnings\n",
        "warnings.filterwarnings('ignore')\n",
        "logger = tf.get_logger()\n",
        "logger.setLevel(logging.ERROR)\n",
        "pd.options.display.max_rows = 10\n",
        "pd.options.display.float_format = '{:.6f}'.format\n",
        "\n",
        "RS = 77\n",
        "rn.seed(RS)\n",
        "tf.random.set_seed(RS)\n",
        "np.random.seed(RS)\n",
        "np.random.RandomState(RS)\n",
        "\n",
        "GDRIVE_PATH = '/content/drive'\n",
        "drive.mount(GDRIVE_PATH, force_remount=True)\n",
        "PATH = os.path.join(GDRIVE_PATH, 'My Drive/crowdanalytix/', '')"
      ],
      "execution_count": 1,
      "outputs": [
        {
          "output_type": "stream",
          "text": [
            "Requirement already satisfied: scikit-plot in /usr/local/lib/python3.6/dist-packages (0.3.7)\n",
            "Requirement already satisfied: scikit-learn>=0.18 in /usr/local/lib/python3.6/dist-packages (from scikit-plot) (0.22)\n",
            "Requirement already satisfied: matplotlib>=1.4.0 in /usr/local/lib/python3.6/dist-packages (from scikit-plot) (3.1.2)\n",
            "Requirement already satisfied: joblib>=0.10 in /usr/local/lib/python3.6/dist-packages (from scikit-plot) (0.14.1)\n",
            "Requirement already satisfied: scipy>=0.9 in /usr/local/lib/python3.6/dist-packages (from scikit-plot) (1.3.3)\n",
            "Requirement already satisfied: numpy>=1.11.0 in /usr/local/lib/python3.6/dist-packages (from scikit-learn>=0.18->scikit-plot) (1.17.4)\n",
            "Requirement already satisfied: pyparsing!=2.0.4,!=2.1.2,!=2.1.6,>=2.0.1 in /usr/local/lib/python3.6/dist-packages (from matplotlib>=1.4.0->scikit-plot) (2.4.5)\n",
            "Requirement already satisfied: cycler>=0.10 in /usr/local/lib/python3.6/dist-packages (from matplotlib>=1.4.0->scikit-plot) (0.10.0)\n",
            "Requirement already satisfied: kiwisolver>=1.0.1 in /usr/local/lib/python3.6/dist-packages (from matplotlib>=1.4.0->scikit-plot) (1.1.0)\n",
            "Requirement already satisfied: python-dateutil>=2.1 in /usr/local/lib/python3.6/dist-packages (from matplotlib>=1.4.0->scikit-plot) (2.6.1)\n",
            "Requirement already satisfied: six in /usr/local/lib/python3.6/dist-packages (from cycler>=0.10->matplotlib>=1.4.0->scikit-plot) (1.12.0)\n",
            "Requirement already satisfied: setuptools in /usr/local/lib/python3.6/dist-packages (from kiwisolver>=1.0.1->matplotlib>=1.4.0->scikit-plot) (42.0.2)\n",
            "Populating the interactive namespace from numpy and matplotlib\n",
            "TensorFlow 2.x selected.\n",
            "/device:GPU:0\n",
            "2.1.0-rc1\n",
            "2.2.4-tf\n",
            "0.22\n"
          ],
          "name": "stdout"
        },
        {
          "output_type": "stream",
          "text": [
            "Using TensorFlow backend.\n",
            "/usr/local/lib/python3.6/dist-packages/sklearn/externals/six.py:31: FutureWarning: The module is deprecated in version 0.21 and will be removed in version 0.23 since we've dropped support for Python 2.7. Please rely on the official version of six (https://pypi.org/project/six/).\n",
            "  \"(https://pypi.org/project/six/).\", FutureWarning)\n",
            "/usr/local/lib/python3.6/dist-packages/sklearn/utils/deprecation.py:144: FutureWarning: The sklearn.neighbors.base module is  deprecated in version 0.22 and will be removed in version 0.24. The corresponding classes / functions should instead be imported from sklearn.neighbors. Anything that cannot be imported from sklearn.neighbors is now part of the private API.\n",
            "  warnings.warn(message, FutureWarning)\n"
          ],
          "name": "stderr"
        },
        {
          "output_type": "stream",
          "text": [
            "Mounted at /content/drive\n"
          ],
          "name": "stdout"
        }
      ]
    },
    {
      "cell_type": "code",
      "metadata": {
        "id": "u7zpEywwBUBS",
        "colab_type": "code",
        "outputId": "5f977b8e-8787-402d-a03c-0f12e9794433",
        "colab": {
          "base_uri": "https://localhost:8080/",
          "height": 297
        }
      },
      "source": [
        "df_train = pd.read_csv(os.path.join(PATH, 'CAX_LogFacies_Train_File.csv')) #, dtype={'field1': np.float64, 'field14': np.float64})\n",
        "df_test = pd.read_csv(os.path.join(PATH, 'CAX_LogFacies_Test_File.csv'), index_col='unique_id') #, dtype={'field1': np.float64, 'field14': np.float64})\n",
        "df_train.describe()"
      ],
      "execution_count": 2,
      "outputs": [
        {
          "output_type": "execute_result",
          "data": {
            "text/html": [
              "<div>\n",
              "<style scoped>\n",
              "    .dataframe tbody tr th:only-of-type {\n",
              "        vertical-align: middle;\n",
              "    }\n",
              "\n",
              "    .dataframe tbody tr th {\n",
              "        vertical-align: top;\n",
              "    }\n",
              "\n",
              "    .dataframe thead th {\n",
              "        text-align: right;\n",
              "    }\n",
              "</style>\n",
              "<table border=\"1\" class=\"dataframe\">\n",
              "  <thead>\n",
              "    <tr style=\"text-align: right;\">\n",
              "      <th></th>\n",
              "      <th>row_id</th>\n",
              "      <th>well_id</th>\n",
              "      <th>GR</th>\n",
              "      <th>label</th>\n",
              "    </tr>\n",
              "  </thead>\n",
              "  <tbody>\n",
              "    <tr>\n",
              "      <th>count</th>\n",
              "      <td>4400000.000000</td>\n",
              "      <td>4400000.000000</td>\n",
              "      <td>4400000.000000</td>\n",
              "      <td>4400000.000000</td>\n",
              "    </tr>\n",
              "    <tr>\n",
              "      <th>mean</th>\n",
              "      <td>549.500000</td>\n",
              "      <td>1999.500000</td>\n",
              "      <td>109.273256</td>\n",
              "      <td>1.184489</td>\n",
              "    </tr>\n",
              "    <tr>\n",
              "      <th>std</th>\n",
              "      <td>317.542553</td>\n",
              "      <td>1154.700634</td>\n",
              "      <td>34.242397</td>\n",
              "      <td>1.465016</td>\n",
              "    </tr>\n",
              "    <tr>\n",
              "      <th>min</th>\n",
              "      <td>0.000000</td>\n",
              "      <td>0.000000</td>\n",
              "      <td>-3.181915</td>\n",
              "      <td>0.000000</td>\n",
              "    </tr>\n",
              "    <tr>\n",
              "      <th>25%</th>\n",
              "      <td>274.750000</td>\n",
              "      <td>999.750000</td>\n",
              "      <td>81.792217</td>\n",
              "      <td>0.000000</td>\n",
              "    </tr>\n",
              "    <tr>\n",
              "      <th>50%</th>\n",
              "      <td>549.500000</td>\n",
              "      <td>1999.500000</td>\n",
              "      <td>120.384935</td>\n",
              "      <td>0.000000</td>\n",
              "    </tr>\n",
              "    <tr>\n",
              "      <th>75%</th>\n",
              "      <td>824.250000</td>\n",
              "      <td>2999.250000</td>\n",
              "      <td>134.729051</td>\n",
              "      <td>2.000000</td>\n",
              "    </tr>\n",
              "    <tr>\n",
              "      <th>max</th>\n",
              "      <td>1099.000000</td>\n",
              "      <td>3999.000000</td>\n",
              "      <td>197.061419</td>\n",
              "      <td>4.000000</td>\n",
              "    </tr>\n",
              "  </tbody>\n",
              "</table>\n",
              "</div>"
            ],
            "text/plain": [
              "              row_id        well_id             GR          label\n",
              "count 4400000.000000 4400000.000000 4400000.000000 4400000.000000\n",
              "mean      549.500000    1999.500000     109.273256       1.184489\n",
              "std       317.542553    1154.700634      34.242397       1.465016\n",
              "min         0.000000       0.000000      -3.181915       0.000000\n",
              "25%       274.750000     999.750000      81.792217       0.000000\n",
              "50%       549.500000    1999.500000     120.384935       0.000000\n",
              "75%       824.250000    2999.250000     134.729051       2.000000\n",
              "max      1099.000000    3999.000000     197.061419       4.000000"
            ]
          },
          "metadata": {
            "tags": []
          },
          "execution_count": 2
        }
      ]
    },
    {
      "cell_type": "code",
      "metadata": {
        "id": "RN8ksG1fAJWy",
        "colab_type": "code",
        "colab": {}
      },
      "source": [
        "X = df_train[['label', 'GR']]\n",
        "X['id'] = df_train['well_id']*1100 + df_train['row_id']\n",
        "\n",
        "data = pd.DataFrame(X, index=X['id']).drop(['id'], axis=1)"
      ],
      "execution_count": 0,
      "outputs": []
    },
    {
      "cell_type": "code",
      "metadata": {
        "id": "3NgxAaIIaCZa",
        "colab_type": "code",
        "colab": {}
      },
      "source": [
        "df_test.head()"
      ],
      "execution_count": 0,
      "outputs": []
    },
    {
      "cell_type": "code",
      "metadata": {
        "id": "jQmCDtglS2m0",
        "colab_type": "code",
        "colab": {}
      },
      "source": [
        "df_train.tail()"
      ],
      "execution_count": 0,
      "outputs": []
    },
    {
      "cell_type": "code",
      "metadata": {
        "id": "TlOQU-YpQY7I",
        "colab_type": "code",
        "colab": {}
      },
      "source": [
        "df_test.describe()"
      ],
      "execution_count": 0,
      "outputs": []
    },
    {
      "cell_type": "code",
      "metadata": {
        "id": "uQVRtNUMBjT9",
        "colab_type": "code",
        "colab": {}
      },
      "source": [
        "fig, ax = plt.subplots(figsize=(15,15))\n",
        "df_train.hist(ax=ax);"
      ],
      "execution_count": 0,
      "outputs": []
    },
    {
      "cell_type": "code",
      "metadata": {
        "id": "53Nb1bu9REmY",
        "colab_type": "code",
        "colab": {}
      },
      "source": [
        "def plot_cm_and_roc(model, X, y, title=''):\n",
        "  \n",
        "  fig, (ax1, ax2) = plt.subplots(1, 2, figsize=(15,4))\n",
        "  fig.patch.set_facecolor((1.0, 1.0, 1.0))\n",
        "  fig.suptitle(f'{type(model).__name__} {title}')\n",
        "  skl.metrics.plot_confusion_matrix(model, X, y, ax=ax1)\n",
        "  skl.metrics.plot_roc_curve(model, X, y, ax=ax2)\n",
        "  '''\n",
        "  pred_proba = model.predict_proba(X, ntree_limit=model.best_ntree_limit)\n",
        "  fig, (ax1, ax2) = plt.subplots(1, 2, figsize=(15,4))\n",
        "  fig.suptitle(f'{type(model).__name__} {title}')\n",
        "  skplt.metrics.plot_confusion_matrix(y, pred_proba.argmax(axis=1), ax=ax1)\n",
        "  skplt.metrics.plot_roc(y, pred_proba, ax=ax2)\n",
        "  '''\n",
        "  plt.show()\n",
        "\n",
        "def oof_estimate_plot(model):\n",
        "  X_oof, y_off = prepare_data(df_oof)\n",
        "  plot_cm_and_roc(model, X_oof, y_off, 'oof')\n",
        "\n",
        "  if hasattr(model, 'best_ntree_limit'): pred = model.predict_proba(X_oof, ntree_limit=model.best_ntree_limit) \n",
        "  else: pred = model.predict_proba(X_oof)\n",
        "\n",
        "  oof = skl.metrics.roc_auc_score(y_off, pred[:, 1])\n",
        "  del X_oof\n",
        "  return oof\n",
        "\n",
        "def plot_cv_scores(scores):\n",
        "  # plot CV scores\n",
        "  plt.figure()\n",
        "  plt.xlabel('Number of folds')\n",
        "  plt.ylabel('Cross validation score')\n",
        "  plt.plot(range(1, len(scores) + 1), scores)\n",
        "  plt.show()\n",
        "\n",
        "def plot_history(history, metric_names):\n",
        "  hist = pd.DataFrame(history.history)\n",
        "  hist['epoch'] = history.epoch\n",
        "\n",
        "  plt.subplots(figsize=(15,4))\n",
        "\n",
        "  num_plots = len(metric_names)\n",
        "\n",
        "  for i in range(num_plots):\n",
        "    plt.subplot(1,num_plots,i+1)\n",
        "    plt.xlabel('Epoch')\n",
        "    plt.ylabel(metric_names[i])\n",
        "    plt.plot(hist['epoch'], hist[metric_names[i]],\n",
        "            label='Train %s' % metric_names[i])\n",
        "    plt.plot(hist['epoch'], hist['val_%s' % metric_names[i]],\n",
        "            label = 'Val %s' % metric_names[i])\n",
        "    plt.legend()\n",
        "  \n",
        "  plt.show()"
      ],
      "execution_count": 0,
      "outputs": []
    },
    {
      "cell_type": "markdown",
      "metadata": {
        "id": "uHeko8EN8AVU",
        "colab_type": "text"
      },
      "source": [
        "## Neural Networks"
      ]
    },
    {
      "cell_type": "code",
      "metadata": {
        "id": "dgwaYt2Qx78g",
        "colab_type": "code",
        "colab": {}
      },
      "source": [
        "model = tf.keras.Sequential([\n",
        "    tf.keras.layers.Input(shape=(BLOCK, 1)),\n",
        "    tf.keras.layers.Conv1D(256, kernel_size=3, padding='same'),\n",
        "    tf.keras.layers.MaxPool1D(2),\n",
        "    tf.keras.layers.Conv1D(128, kernel_size=3, padding='same'),\n",
        "    tf.keras.layers.MaxPool1D(2),\n",
        "    tf.keras.layers.Conv1D(61, kernel_size=3, padding='same'),\n",
        "    tf.keras.layers.MaxPool1D(3),\n",
        "    tf.keras.layers.Flatten(),\n",
        "    tf.keras.layers.Dense(5500),\n",
        "    tf.keras.layers.Reshape(target_shape=(BLOCK,5)),\n",
        "    tf.keras.layers.Dense(TARGET_TYPES, activation='softmax'),\n",
        "  ])\n",
        "optimizer=keras.optimizers.Adam(lr=1e-3)\n",
        "model.compile(optimizer=optimizer,\n",
        "              metrics=[#tf.keras.metrics.AUC(), \n",
        "                      'sparse_categorical_crossentropy'\n",
        "                      ], \n",
        "              loss='sparse_categorical_crossentropy'\n",
        "              )\n",
        "model.summary()"
      ],
      "execution_count": 0,
      "outputs": []
    },
    {
      "cell_type": "code",
      "metadata": {
        "id": "50kviE_sA7_b",
        "colab_type": "code",
        "outputId": "d29aede0-d7ee-4ad6-b72a-97eb045fd7e7",
        "colab": {
          "base_uri": "https://localhost:8080/",
          "height": 340
        }
      },
      "source": [
        "from tensorflow.keras.layers import Input, LSTM, Dense, Reshape, Conv1D, MaxPool1D, Bidirectional\n",
        "tf.keras.backend.clear_session()\n",
        "\n",
        "EPOCHS = 100\n",
        "BS = 200\n",
        "BLOCK=1100\n",
        "\n",
        "X, y = data.iloc[:, 1:], data.iloc[:, :1]\n",
        "#X, _, y, _ = train_test_split(X, y, random_state=RS, shuffle=False, test_size=0.8)\n",
        "X_train, X_cv, y_train, y_cv = train_test_split(X, y, random_state=RS, shuffle=False, test_size=0.1)\n",
        "\n",
        "center, scale = X_train.mean().values, X_train.std().values\n",
        "X_train = (X_train.values - center)/scale\n",
        "X_cv = (X_cv.values - center)/scale\n",
        "y_train = y_train.values.ravel()\n",
        "y_cv = y_cv.values.ravel()\n",
        "\n",
        "X_train = X_train.reshape(-1, BLOCK, 1)\n",
        "y_train_ = y_train.reshape(-1, BLOCK, 1)\n",
        "\n",
        "X_cv = X_cv.reshape(-1, BLOCK, 1)\n",
        "y_cv_ = y_cv.reshape(-1, BLOCK, 1)\n",
        "\n",
        "FEATURES_NUM = 1\n",
        "TARGET_TYPES = 5\n",
        "weight_decay = 0.1\n",
        "#kernel_regularizer=keras.regularizers.l2(weight_decay))),\n",
        "model = tf.keras.Sequential([\n",
        "    Input(shape=(BLOCK, 1), batch_size=BS),\n",
        "    Bidirectional(LSTM(64, return_sequences=True, use_bias=False)), \n",
        "    Bidirectional(LSTM(64, return_sequences=True, use_bias=False)),\n",
        "    Bidirectional(LSTM(64, return_sequences=True, use_bias=False)),\n",
        "    #Bidirectional(LSTM(64, return_sequences=True)),\n",
        "    Dense(TARGET_TYPES, activation='softmax'),\n",
        "  ])\n",
        "optimizer=keras.optimizers.Adam(lr=1e-2)\n",
        "#optimizer=keras.optimizers.RMSprop(lr=1e-2)\n",
        "model.compile(optimizer=optimizer,\n",
        "              metrics=[#tf.keras.metrics.AUC(), \n",
        "                      #'sparse_categorical_crossentropy'\n",
        "                      ], \n",
        "              loss='sparse_categorical_crossentropy'\n",
        "              )\n",
        "model.summary()\n",
        "model.reset_states()\n",
        "\n",
        "class ResetStatesCallback(keras.callbacks.Callback):\n",
        "    def on_batch_begin(self, batch, logs):\n",
        "        self.model.reset_states()\n",
        "#lr_schedule = keras.callbacks.LearningRateScheduler(lambda epoch: 1e-8 * 10**(epoch / 20))\n",
        "lr_schedule = keras.callbacks.ReduceLROnPlateau(verbose=0, factor=0.1, patience=10, monitor='val_loss', mode='min')\n",
        "early_stop = keras.callbacks.EarlyStopping( patience=20, monitor='val_loss', mode='min' )\n",
        "model_save = keras.callbacks.ModelCheckpoint( \"my_checkpoint.h5\", monitor='val_loss', save_best_only=True, mode='min' )\n",
        "reset_states = ResetStatesCallback()\n",
        "\n",
        "history = model.fit(X_train, y_train_,\n",
        "          epochs=EPOCHS,\n",
        "          batch_size=BS,\n",
        "          shuffle=False,\n",
        "          use_multiprocessing=True,\n",
        "          verbose=1,\n",
        "          validation_data=(X_cv, y_cv_),\n",
        "          callbacks=[early_stop, model_save, lr_schedule, reset_states])\n",
        "\n",
        "#plt.semilogx(history.history[\"lr\"], history.history[\"loss\"])\n",
        "#plt.axis([1e-8, 1e-4, 0, 30])\n",
        "\n",
        "model = keras.models.load_model('my_checkpoint.h5')\n",
        "\n",
        "plot_history(history, model.metrics_names)\n",
        "\n",
        "print(f'train loss: {np.min(history.history[\"loss\"]):.5f} val loss:{np.min(history.history[\"val_loss\"]):.5f}')\n",
        "\n",
        "model.reset_states()\n",
        "\n",
        "cv_pred_proba = model.predict(X_cv, use_multiprocessing=True)\n",
        "cv_pred_proba = cv_pred_proba.reshape(-1, TARGET_TYPES)\n",
        "cv_pred = cv_pred_proba.argmax(axis=1)\n",
        "\n",
        "fig = plt.figure(figsize=(15,4))\n",
        "ax1 = fig.add_subplot(1, 2, 1)\n",
        "skplt.metrics.plot_confusion_matrix(y_cv, cv_pred, ax=ax1)\n",
        "ax2 = fig.add_subplot(1, 2, 2)\n",
        "skplt.metrics.plot_roc(y_cv, cv_pred_proba, ax=ax2)\n",
        "plt.show()"
      ],
      "execution_count": 0,
      "outputs": [
        {
          "output_type": "stream",
          "text": [
            "Model: \"sequential\"\n",
            "_________________________________________________________________\n",
            "Layer (type)                 Output Shape              Param #   \n",
            "=================================================================\n",
            "bidirectional (Bidirectional (200, 1100, 128)          33280     \n",
            "_________________________________________________________________\n",
            "bidirectional_1 (Bidirection (200, 1100, 128)          98304     \n",
            "_________________________________________________________________\n",
            "bidirectional_2 (Bidirection (200, 1100, 128)          98304     \n",
            "_________________________________________________________________\n",
            "dense (Dense)                (200, 1100, 5)            645       \n",
            "=================================================================\n",
            "Total params: 230,533\n",
            "Trainable params: 230,533\n",
            "Non-trainable params: 0\n",
            "_________________________________________________________________\n",
            "Train on 3600 samples, validate on 400 samples\n",
            "Epoch 1/100\n",
            "1000/3600 [=======>......................] - ETA: 1:15 - loss: 1.2650"
          ],
          "name": "stdout"
        }
      ]
    },
    {
      "cell_type": "code",
      "metadata": {
        "colab_type": "code",
        "outputId": "4de8b37f-ed6b-4d9e-ca9f-5d5ff001a1a8",
        "id": "RXH2gD0r9k5x",
        "colab": {
          "base_uri": "https://localhost:8080/",
          "height": 843
        }
      },
      "source": [
        "model = keras.models.load_model('my_checkpoint.h5')\n",
        "model.summary()\n",
        "\n",
        "plot_history(history, model.metrics_names)\n",
        "\n",
        "print(f'BS:{BS} train loss: {np.min(history.history[\"loss\"]):.5f} val loss:{np.min(history.history[\"val_loss\"]):.5f}')\n",
        "\n",
        "model.reset_states()\n",
        "\n",
        "cv_pred_proba = model.predict(X_cv, use_multiprocessing=True)\n",
        "cv_pred_proba = cv_pred_proba.reshape(-1, TARGET_TYPES)\n",
        "cv_pred = cv_pred_proba.argmax(axis=1)\n",
        "\n",
        "fig = plt.figure(figsize=(15,4))\n",
        "ax1 = fig.add_subplot(1, 2, 1)\n",
        "skplt.metrics.plot_confusion_matrix(y_cv, cv_pred, ax=ax1)\n",
        "ax2 = fig.add_subplot(1, 2, 2)\n",
        "skplt.metrics.plot_roc(y_cv, cv_pred_proba, ax=ax2)\n",
        "plt.show()"
      ],
      "execution_count": 10,
      "outputs": [
        {
          "output_type": "stream",
          "text": [
            "Model: \"sequential\"\n",
            "_________________________________________________________________\n",
            "Layer (type)                 Output Shape              Param #   \n",
            "=================================================================\n",
            "bidirectional (Bidirectional (200, 1100, 128)          33792     \n",
            "_________________________________________________________________\n",
            "bidirectional_1 (Bidirection (200, 1100, 128)          98816     \n",
            "_________________________________________________________________\n",
            "bidirectional_2 (Bidirection (200, 1100, 128)          98816     \n",
            "_________________________________________________________________\n",
            "dense (Dense)                (200, 1100, 5)            645       \n",
            "=================================================================\n",
            "Total params: 232,069\n",
            "Trainable params: 232,069\n",
            "Non-trainable params: 0\n",
            "_________________________________________________________________\n"
          ],
          "name": "stdout"
        },
        {
          "output_type": "display_data",
          "data": {
            "image/png": "[encoded data removed]",
            "text/plain": [
              "<Figure size 1080x288 with 1 Axes>"
            ]
          },
          "metadata": {
            "tags": []
          }
        },
        {
          "output_type": "stream",
          "text": [
            "BS:200 train loss: 0.05395 val loss:0.09368\n"
          ],
          "name": "stdout"
        },
        {
          "output_type": "display_data",
          "data": {
            "image/png": "[encoded data removed]",
            "text/plain": [
              "<Figure size 1080x288 with 3 Axes>"
            ]
          },
          "metadata": {
            "tags": []
          }
        }
      ]
    },
    {
      "cell_type": "markdown",
      "metadata": {
        "id": "-oGx7RPEaTW_",
        "colab_type": "text"
      },
      "source": [
        "## Submit RNN Result"
      ]
    },
    {
      "cell_type": "code",
      "metadata": {
        "id": "42hE-rcy6oU3",
        "colab_type": "code",
        "colab": {}
      },
      "source": [
        "X_test = df_test[['GR']]\n",
        "X_test = (X_test.values - center)/scale\n",
        "X_test = X_test.reshape(-1, BLOCK, FEATURES_NUM)\n",
        "\n",
        "model = keras.models.load_model('my_checkpoint.h5')\n",
        "\n",
        "test_pred_proba = model.predict(X_test, use_multiprocessing=True)\n",
        "test_pred_proba = test_pred_proba.reshape(-1, TARGET_TYPES)\n",
        "test_pred = test_pred_proba.argmax(axis=1)\n",
        "\n",
        "pd.DataFrame(test_pred, index=df_test.index, columns=['label']).to_csv('submission.csv')"
      ],
      "execution_count": 0,
      "outputs": []
    },
    {
      "cell_type": "code",
      "metadata": {
        "id": "0IFhO6pL9gUg",
        "colab_type": "code",
        "colab": {}
      },
      "source": [
        "files.download('submission.csv')"
      ],
      "execution_count": 0,
      "outputs": []
    },
    {
      "cell_type": "markdown",
      "metadata": {
        "id": "MTy5JOWs7n4D",
        "colab_type": "text"
      },
      "source": [
        "## Tree models"
      ]
    },
    {
      "cell_type": "code",
      "metadata": {
        "id": "8M_OZqQxQxIf",
        "colab_type": "code",
        "colab": {}
      },
      "source": [
        "\n",
        "X, y = data.iloc[:, 1:], data.iloc[:, :1]\n",
        "\n",
        "X, _, y, _ = train_test_split(X, y, random_state=RS, shuffle=False, test_size=0.8)\n",
        "X, X_oof, y, y_oof = train_test_split(X, y, random_state=RS, shuffle=False, test_size=0.1)\n",
        "\n",
        "\n",
        "n_folds = 2\n",
        "skf = StratifiedKFold(n_splits=n_folds, shuffle=True, random_state=RS)\n",
        "model = XGBClassifier(objective=\"multi:softprob\", random_state=RS)\n",
        "scores = cross_val_score(model, X, y, scoring='roc_auc_ovr', verbose=1, n_jobs=-1, cv=skf)\n",
        "\n",
        "model.fit(X, y,\n",
        "        eval_set=[(X_oof, y_oof)],\n",
        "        early_stopping_rounds=200,\n",
        "        verbose=False,\n",
        "        #eval_metric = 'roc_auc_ovr', \n",
        "        )\n",
        "\n",
        "# estimate OOF\n",
        "oof = oof_estimate_plot(model)\n",
        "print(f'# {type(model).__name__} RS:{RS} {n_folds}x CV: {np.mean(scores):.5f} ± {np.std(scores):.5f} OOF: {oof:.5f} ~{[x for x in FTS if x not in X.columns]}')\n",
        "\n",
        "plot_cv_scores(scores)"
      ],
      "execution_count": 0,
      "outputs": []
    },
    {
      "cell_type": "markdown",
      "metadata": {
        "id": "gbOc51F0fwb7",
        "colab_type": "text"
      },
      "source": [
        "## Submit the result"
      ]
    },
    {
      "cell_type": "code",
      "metadata": {
        "id": "SGRIEBlNaZTg",
        "colab_type": "code",
        "colab": {}
      },
      "source": [
        "X_test = df_test[['GR']]\n",
        "#X_test = (X_test.values - center)/scale\n",
        "\n",
        "test_pred_proba = model.predict_proba(X_test) #, use_multiprocessing=True)\n",
        "test_pred = test_pred_proba.argmax(axis=1)\n",
        "\n",
        "df_test_pred=pd.DataFrame(test_pred, index=df_test.index, columns=['label']).to_csv('submission.csv')\n",
        "df_test_pred"
      ],
      "execution_count": 0,
      "outputs": []
    },
    {
      "cell_type": "code",
      "metadata": {
        "id": "bHMg2IYaJEkb",
        "colab_type": "code",
        "colab": {}
      },
      "source": [
        "def sequential_window_dataset(series, window_size):\n",
        "    series = tf.expand_dims(series, axis=-1)\n",
        "    ds = tf.data.Dataset.from_tensor_slices(series)\n",
        "    ds = ds.window(window_size + 1, shift=window_size, drop_remainder=True)\n",
        "    ds = ds.flat_map(lambda window: window.batch(window_size + 1))\n",
        "    ds = ds.map(lambda window: (window[:-1], window[1:]))\n",
        "    return ds.batch(1).prefetch(1)"
      ],
      "execution_count": 0,
      "outputs": []
    }
  ]
}
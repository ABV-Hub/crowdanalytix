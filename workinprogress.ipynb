{
  "nbformat": 4,
  "nbformat_minor": 0,
  "metadata": {
    "colab": {
      "name": "workinprogress.ipynb",
      "provenance": [],
      "include_colab_link": true
    },
    "kernelspec": {
      "name": "python3",
      "display_name": "Python 3"
    },
    "accelerator": "GPU"
  },
  "cells": [
    {
      "cell_type": "markdown",
      "metadata": {
        "id": "view-in-github",
        "colab_type": "text"
      },
      "source": [
        "<a href=\"https://colab.research.google.com/github/andygoosh/crowdanalytix/blob/master/workinprogress.ipynb\" target=\"_parent\"><img src=\"https://colab.research.google.com/assets/colab-badge.svg\" alt=\"Open In Colab\"/></a>"
      ]
    },
    {
      "cell_type": "code",
      "metadata": {
        "id": "YdIZDgRzBDS4",
        "colab_type": "code",
        "outputId": "792d2a64-0972-4e04-cde8-cce3fe53a538",
        "colab": {
          "base_uri": "https://localhost:8080/",
          "height": 564
        }
      },
      "source": [
        "!pip3 install scikit-plot\n",
        "\n",
        "%pylab inline\n",
        "plt.style.use(\"bmh\")\n",
        "plt.rcParams[\"figure.figsize\"] = (6,6)\n",
        "\n",
        "try:\n",
        "  # %tensorflow_version only exists in Colab.\n",
        "  %tensorflow_version 2.x\n",
        "except Exception:\n",
        "  pass\n",
        "\n",
        "import random as rn\n",
        "import pandas as pd\n",
        "import xarray\n",
        "import requests\n",
        "import datetime\n",
        "\n",
        "import os\n",
        "import numpy as np\n",
        "from datetime import timedelta\n",
        "from tqdm import tqdm_notebook as tqdm\n",
        "import sklearn as skl\n",
        "import seaborn as sns\n",
        "import xgboost as xgb\n",
        "from pathlib import Path\n",
        "import scikitplot as skplt\n",
        "from google.colab import files, drive\n",
        "from scipy.stats import uniform as sp_randFloat\n",
        "from scipy.stats import randint as sp_randInt\n",
        "import sklearn\n",
        "\n",
        "import tensorflow as tf\n",
        "import tensorflow.keras as keras\n",
        "\n",
        "print(tf.test.gpu_device_name())\n",
        "print(f'tf:{tf.__version__}')\n",
        "print(f'keras:{tf.keras.__version__}')\n",
        "print(f'sklearn:{sklearn.__version__}')\n",
        "#assert ('0.22' == sklearn.__version__)\n",
        "\n",
        "from xgboost import XGBClassifier\n",
        "from lightgbm import LGBMClassifier\n",
        "from sklearn.ensemble import GradientBoostingClassifier\n",
        "from sklearn.model_selection import GridSearchCV, StratifiedKFold, KFold, RandomizedSearchCV, cross_val_score, cross_val_score\n",
        "from sklearn.calibration import CalibratedClassifierCV\n",
        "from imblearn.over_sampling import SMOTE\n",
        "from imblearn.under_sampling import RandomUnderSampler\n",
        "from sklearn.utils import resample\n",
        "from sklearn.pipeline import make_pipeline\n",
        "if sklearn.__version__ == '0.22':\n",
        "  from sklearn.inspection import permutation_importance\n",
        "from sklearn.model_selection import train_test_split\n",
        "from sklearn.preprocessing import OneHotEncoder\n",
        "from sklearn.decomposition import PCA\n",
        "import sklearn.ensemble\n",
        "\n",
        "import warnings\n",
        "warnings.filterwarnings('ignore')\n",
        "logger = tf.get_logger()\n",
        "logger.setLevel(logging.ERROR)\n",
        "pd.options.display.max_rows = 10\n",
        "pd.options.display.float_format = '{:.6f}'.format\n",
        "\n",
        "RS = 77\n",
        "rn.seed(RS)\n",
        "if tf.__version__[:2] == '2.':\n",
        "  tf.random.set_seed(RS)\n",
        "np.random.seed(RS)\n",
        "np.random.RandomState(RS)\n",
        "\n",
        "GDRIVE_PATH = '/content/drive'\n",
        "drive.mount(GDRIVE_PATH, force_remount=True)\n",
        "PATH = os.path.join(GDRIVE_PATH, 'My Drive/crowdanalytix/', '')"
      ],
      "execution_count": 2,
      "outputs": [
        {
          "output_type": "stream",
          "text": [
            "Collecting scikit-plot\n",
            "  Downloading https://files.pythonhosted.org/packages/7c/47/32520e259340c140a4ad27c1b97050dd3254fdc517b1d59974d47037510e/scikit_plot-0.3.7-py3-none-any.whl\n",
            "Requirement already satisfied: scikit-learn>=0.18 in /usr/local/lib/python3.6/dist-packages (from scikit-plot) (0.21.3)\n",
            "Requirement already satisfied: scipy>=0.9 in /usr/local/lib/python3.6/dist-packages (from scikit-plot) (1.3.3)\n",
            "Requirement already satisfied: joblib>=0.10 in /usr/local/lib/python3.6/dist-packages (from scikit-plot) (0.14.1)\n",
            "Requirement already satisfied: matplotlib>=1.4.0 in /usr/local/lib/python3.6/dist-packages (from scikit-plot) (3.1.2)\n",
            "Requirement already satisfied: numpy>=1.11.0 in /usr/local/lib/python3.6/dist-packages (from scikit-learn>=0.18->scikit-plot) (1.17.4)\n",
            "Requirement already satisfied: kiwisolver>=1.0.1 in /usr/local/lib/python3.6/dist-packages (from matplotlib>=1.4.0->scikit-plot) (1.1.0)\n",
            "Requirement already satisfied: python-dateutil>=2.1 in /usr/local/lib/python3.6/dist-packages (from matplotlib>=1.4.0->scikit-plot) (2.6.1)\n",
            "Requirement already satisfied: pyparsing!=2.0.4,!=2.1.2,!=2.1.6,>=2.0.1 in /usr/local/lib/python3.6/dist-packages (from matplotlib>=1.4.0->scikit-plot) (2.4.5)\n",
            "Requirement already satisfied: cycler>=0.10 in /usr/local/lib/python3.6/dist-packages (from matplotlib>=1.4.0->scikit-plot) (0.10.0)\n",
            "Requirement already satisfied: setuptools in /usr/local/lib/python3.6/dist-packages (from kiwisolver>=1.0.1->matplotlib>=1.4.0->scikit-plot) (42.0.2)\n",
            "Requirement already satisfied: six>=1.5 in /usr/local/lib/python3.6/dist-packages (from python-dateutil>=2.1->matplotlib>=1.4.0->scikit-plot) (1.12.0)\n",
            "Installing collected packages: scikit-plot\n",
            "Successfully installed scikit-plot-0.3.7\n",
            "Populating the interactive namespace from numpy and matplotlib\n",
            "TensorFlow is already loaded. Please restart the runtime to change versions.\n"
          ],
          "name": "stdout"
        },
        {
          "output_type": "stream",
          "text": [
            "/usr/local/lib/python3.6/dist-packages/IPython/core/magics/pylab.py:161: UserWarning: pylab import has clobbered these variables: ['multiply', 'add', 'dot', 'minimum', 'concatenate', 'average', 'maximum', 'subtract']\n",
            "`%matplotlib` prevents importing * from pylab and numpy\n",
            "  \"\\n`%matplotlib` prevents importing * from pylab and numpy\"\n"
          ],
          "name": "stderr"
        },
        {
          "output_type": "stream",
          "text": [
            "/device:GPU:0\n",
            "tf:1.15.0\n",
            "keras:2.2.4-tf\n",
            "sklearn:0.21.3\n"
          ],
          "name": "stdout"
        },
        {
          "output_type": "stream",
          "text": [
            "/usr/local/lib/python3.6/dist-packages/sklearn/externals/six.py:31: DeprecationWarning: The module is deprecated in version 0.21 and will be removed in version 0.23 since we've dropped support for Python 2.7. Please rely on the official version of six (https://pypi.org/project/six/).\n",
            "  \"(https://pypi.org/project/six/).\", DeprecationWarning)\n"
          ],
          "name": "stderr"
        },
        {
          "output_type": "stream",
          "text": [
            "Go to this URL in a browser: https://accounts.google.com/o/oauth2/auth?client_id=947318989803-6bn6qk8qdgf4n4g3pfee6491hc0brc4i.apps.googleusercontent.com&redirect_uri=urn%3aietf%3awg%3aoauth%3a2.0%3aoob&response_type=code&scope=email%20https%3a%2f%2fwww.googleapis.com%2fauth%2fdocs.test%20https%3a%2f%2fwww.googleapis.com%2fauth%2fdrive%20https%3a%2f%2fwww.googleapis.com%2fauth%2fdrive.photos.readonly%20https%3a%2f%2fwww.googleapis.com%2fauth%2fpeopleapi.readonly\n",
            "\n",
            "Enter your authorization code:\n",
            "··········\n",
            "Mounted at /content/drive\n"
          ],
          "name": "stdout"
        }
      ]
    },
    {
      "cell_type": "code",
      "metadata": {
        "id": "u7zpEywwBUBS",
        "colab_type": "code",
        "outputId": "005ab2ed-9839-4a93-d1e7-8117e16f6542",
        "colab": {
          "base_uri": "https://localhost:8080/",
          "height": 297
        }
      },
      "source": [
        "df_train = pd.read_csv(os.path.join(PATH, 'CAX_LogFacies_Train_File.csv')) #, dtype={'field1': np.float64, 'field14': np.float64})\n",
        "df_test = pd.read_csv(os.path.join(PATH, 'CAX_LogFacies_Test_File.csv'), index_col='unique_id') #, dtype={'field1': np.float64, 'field14': np.float64})\n",
        "df_train.describe()"
      ],
      "execution_count": 3,
      "outputs": [
        {
          "output_type": "execute_result",
          "data": {
            "text/html": [
              "<div>\n",
              "<style scoped>\n",
              "    .dataframe tbody tr th:only-of-type {\n",
              "        vertical-align: middle;\n",
              "    }\n",
              "\n",
              "    .dataframe tbody tr th {\n",
              "        vertical-align: top;\n",
              "    }\n",
              "\n",
              "    .dataframe thead th {\n",
              "        text-align: right;\n",
              "    }\n",
              "</style>\n",
              "<table border=\"1\" class=\"dataframe\">\n",
              "  <thead>\n",
              "    <tr style=\"text-align: right;\">\n",
              "      <th></th>\n",
              "      <th>row_id</th>\n",
              "      <th>well_id</th>\n",
              "      <th>GR</th>\n",
              "      <th>label</th>\n",
              "    </tr>\n",
              "  </thead>\n",
              "  <tbody>\n",
              "    <tr>\n",
              "      <th>count</th>\n",
              "      <td>4400000.000000</td>\n",
              "      <td>4400000.000000</td>\n",
              "      <td>4400000.000000</td>\n",
              "      <td>4400000.000000</td>\n",
              "    </tr>\n",
              "    <tr>\n",
              "      <th>mean</th>\n",
              "      <td>549.500000</td>\n",
              "      <td>1999.500000</td>\n",
              "      <td>109.273256</td>\n",
              "      <td>1.184489</td>\n",
              "    </tr>\n",
              "    <tr>\n",
              "      <th>std</th>\n",
              "      <td>317.542553</td>\n",
              "      <td>1154.700634</td>\n",
              "      <td>34.242397</td>\n",
              "      <td>1.465016</td>\n",
              "    </tr>\n",
              "    <tr>\n",
              "      <th>min</th>\n",
              "      <td>0.000000</td>\n",
              "      <td>0.000000</td>\n",
              "      <td>-3.181915</td>\n",
              "      <td>0.000000</td>\n",
              "    </tr>\n",
              "    <tr>\n",
              "      <th>25%</th>\n",
              "      <td>274.750000</td>\n",
              "      <td>999.750000</td>\n",
              "      <td>81.792217</td>\n",
              "      <td>0.000000</td>\n",
              "    </tr>\n",
              "    <tr>\n",
              "      <th>50%</th>\n",
              "      <td>549.500000</td>\n",
              "      <td>1999.500000</td>\n",
              "      <td>120.384935</td>\n",
              "      <td>0.000000</td>\n",
              "    </tr>\n",
              "    <tr>\n",
              "      <th>75%</th>\n",
              "      <td>824.250000</td>\n",
              "      <td>2999.250000</td>\n",
              "      <td>134.729051</td>\n",
              "      <td>2.000000</td>\n",
              "    </tr>\n",
              "    <tr>\n",
              "      <th>max</th>\n",
              "      <td>1099.000000</td>\n",
              "      <td>3999.000000</td>\n",
              "      <td>197.061419</td>\n",
              "      <td>4.000000</td>\n",
              "    </tr>\n",
              "  </tbody>\n",
              "</table>\n",
              "</div>"
            ],
            "text/plain": [
              "              row_id        well_id             GR          label\n",
              "count 4400000.000000 4400000.000000 4400000.000000 4400000.000000\n",
              "mean      549.500000    1999.500000     109.273256       1.184489\n",
              "std       317.542553    1154.700634      34.242397       1.465016\n",
              "min         0.000000       0.000000      -3.181915       0.000000\n",
              "25%       274.750000     999.750000      81.792217       0.000000\n",
              "50%       549.500000    1999.500000     120.384935       0.000000\n",
              "75%       824.250000    2999.250000     134.729051       2.000000\n",
              "max      1099.000000    3999.000000     197.061419       4.000000"
            ]
          },
          "metadata": {
            "tags": []
          },
          "execution_count": 3
        }
      ]
    },
    {
      "cell_type": "code",
      "metadata": {
        "id": "RN8ksG1fAJWy",
        "colab_type": "code",
        "colab": {}
      },
      "source": [
        "X = df_train[['label', 'GR']]\n",
        "X['id'] = df_train['well_id']*1100 + df_train['row_id']\n",
        "\n",
        "data = pd.DataFrame(X, index=X['id']).drop(['id'], axis=1)"
      ],
      "execution_count": 0,
      "outputs": []
    },
    {
      "cell_type": "code",
      "metadata": {
        "id": "u79wmvNciuZP",
        "colab_type": "code",
        "colab": {}
      },
      "source": [
        "#data['GR_mean5'] = data['GR'].rolling(5, min_periods=1).mean()\n",
        "#data['GR_mean15'] = data['GR'].rolling(15, min_periods=1).mean()\n",
        "#data['GR_mean30'] = data['GR'].rolling(30, min_periods=1).mean()\n",
        "#data['GR_mean60'] = data['GR'].rolling(60, min_periods=1).mean()\n",
        "#data['GR_mean100'] = data['GR'].rolling(100, min_periods=1).mean()\n",
        "#data['GR_mean-5'] = data['GR'][::-1].rolling(5, min_periods=1).mean()\n",
        "#data"
      ],
      "execution_count": 0,
      "outputs": []
    },
    {
      "cell_type": "code",
      "metadata": {
        "id": "3NgxAaIIaCZa",
        "colab_type": "code",
        "colab": {
          "base_uri": "https://localhost:8080/",
          "height": 235
        },
        "outputId": "7a90be0d-e6e6-464c-cd6a-efa4a93e2aac"
      },
      "source": [
        "df_test.head()"
      ],
      "execution_count": 5,
      "outputs": [
        {
          "output_type": "execute_result",
          "data": {
            "text/html": [
              "<div>\n",
              "<style scoped>\n",
              "    .dataframe tbody tr th:only-of-type {\n",
              "        vertical-align: middle;\n",
              "    }\n",
              "\n",
              "    .dataframe tbody tr th {\n",
              "        vertical-align: top;\n",
              "    }\n",
              "\n",
              "    .dataframe thead th {\n",
              "        text-align: right;\n",
              "    }\n",
              "</style>\n",
              "<table border=\"1\" class=\"dataframe\">\n",
              "  <thead>\n",
              "    <tr style=\"text-align: right;\">\n",
              "      <th></th>\n",
              "      <th>row_id</th>\n",
              "      <th>well_id</th>\n",
              "      <th>GR</th>\n",
              "    </tr>\n",
              "    <tr>\n",
              "      <th>unique_id</th>\n",
              "      <th></th>\n",
              "      <th></th>\n",
              "      <th></th>\n",
              "    </tr>\n",
              "  </thead>\n",
              "  <tbody>\n",
              "    <tr>\n",
              "      <th>CAX_0</th>\n",
              "      <td>0</td>\n",
              "      <td>5000</td>\n",
              "      <td>113.950000</td>\n",
              "    </tr>\n",
              "    <tr>\n",
              "      <th>CAX_1</th>\n",
              "      <td>1</td>\n",
              "      <td>5000</td>\n",
              "      <td>120.896397</td>\n",
              "    </tr>\n",
              "    <tr>\n",
              "      <th>CAX_2</th>\n",
              "      <td>2</td>\n",
              "      <td>5000</td>\n",
              "      <td>115.342793</td>\n",
              "    </tr>\n",
              "    <tr>\n",
              "      <th>CAX_3</th>\n",
              "      <td>3</td>\n",
              "      <td>5000</td>\n",
              "      <td>118.859190</td>\n",
              "    </tr>\n",
              "    <tr>\n",
              "      <th>CAX_4</th>\n",
              "      <td>4</td>\n",
              "      <td>5000</td>\n",
              "      <td>127.735587</td>\n",
              "    </tr>\n",
              "  </tbody>\n",
              "</table>\n",
              "</div>"
            ],
            "text/plain": [
              "           row_id  well_id         GR\n",
              "unique_id                            \n",
              "CAX_0           0     5000 113.950000\n",
              "CAX_1           1     5000 120.896397\n",
              "CAX_2           2     5000 115.342793\n",
              "CAX_3           3     5000 118.859190\n",
              "CAX_4           4     5000 127.735587"
            ]
          },
          "metadata": {
            "tags": []
          },
          "execution_count": 5
        }
      ]
    },
    {
      "cell_type": "code",
      "metadata": {
        "id": "jQmCDtglS2m0",
        "colab_type": "code",
        "colab": {
          "base_uri": "https://localhost:8080/",
          "height": 204
        },
        "outputId": "ff173afe-7e6e-4393-829e-20371568e6f7"
      },
      "source": [
        "df_train.tail()"
      ],
      "execution_count": 6,
      "outputs": [
        {
          "output_type": "execute_result",
          "data": {
            "text/html": [
              "<div>\n",
              "<style scoped>\n",
              "    .dataframe tbody tr th:only-of-type {\n",
              "        vertical-align: middle;\n",
              "    }\n",
              "\n",
              "    .dataframe tbody tr th {\n",
              "        vertical-align: top;\n",
              "    }\n",
              "\n",
              "    .dataframe thead th {\n",
              "        text-align: right;\n",
              "    }\n",
              "</style>\n",
              "<table border=\"1\" class=\"dataframe\">\n",
              "  <thead>\n",
              "    <tr style=\"text-align: right;\">\n",
              "      <th></th>\n",
              "      <th>row_id</th>\n",
              "      <th>well_id</th>\n",
              "      <th>GR</th>\n",
              "      <th>label</th>\n",
              "    </tr>\n",
              "  </thead>\n",
              "  <tbody>\n",
              "    <tr>\n",
              "      <th>4399995</th>\n",
              "      <td>1095</td>\n",
              "      <td>3999</td>\n",
              "      <td>161.799008</td>\n",
              "      <td>0</td>\n",
              "    </tr>\n",
              "    <tr>\n",
              "      <th>4399996</th>\n",
              "      <td>1096</td>\n",
              "      <td>3999</td>\n",
              "      <td>142.631756</td>\n",
              "      <td>0</td>\n",
              "    </tr>\n",
              "    <tr>\n",
              "      <th>4399997</th>\n",
              "      <td>1097</td>\n",
              "      <td>3999</td>\n",
              "      <td>142.734504</td>\n",
              "      <td>0</td>\n",
              "    </tr>\n",
              "    <tr>\n",
              "      <th>4399998</th>\n",
              "      <td>1098</td>\n",
              "      <td>3999</td>\n",
              "      <td>140.037252</td>\n",
              "      <td>0</td>\n",
              "    </tr>\n",
              "    <tr>\n",
              "      <th>4399999</th>\n",
              "      <td>1099</td>\n",
              "      <td>3999</td>\n",
              "      <td>152.400000</td>\n",
              "      <td>0</td>\n",
              "    </tr>\n",
              "  </tbody>\n",
              "</table>\n",
              "</div>"
            ],
            "text/plain": [
              "         row_id  well_id         GR  label\n",
              "4399995    1095     3999 161.799008      0\n",
              "4399996    1096     3999 142.631756      0\n",
              "4399997    1097     3999 142.734504      0\n",
              "4399998    1098     3999 140.037252      0\n",
              "4399999    1099     3999 152.400000      0"
            ]
          },
          "metadata": {
            "tags": []
          },
          "execution_count": 6
        }
      ]
    },
    {
      "cell_type": "code",
      "metadata": {
        "id": "TlOQU-YpQY7I",
        "colab_type": "code",
        "colab": {
          "base_uri": "https://localhost:8080/",
          "height": 297
        },
        "outputId": "82baafdd-2a67-4758-e03d-8e4b599c25b3"
      },
      "source": [
        "df_test.describe()"
      ],
      "execution_count": 7,
      "outputs": [
        {
          "output_type": "execute_result",
          "data": {
            "text/html": [
              "<div>\n",
              "<style scoped>\n",
              "    .dataframe tbody tr th:only-of-type {\n",
              "        vertical-align: middle;\n",
              "    }\n",
              "\n",
              "    .dataframe tbody tr th {\n",
              "        vertical-align: top;\n",
              "    }\n",
              "\n",
              "    .dataframe thead th {\n",
              "        text-align: right;\n",
              "    }\n",
              "</style>\n",
              "<table border=\"1\" class=\"dataframe\">\n",
              "  <thead>\n",
              "    <tr style=\"text-align: right;\">\n",
              "      <th></th>\n",
              "      <th>row_id</th>\n",
              "      <th>well_id</th>\n",
              "      <th>GR</th>\n",
              "    </tr>\n",
              "  </thead>\n",
              "  <tbody>\n",
              "    <tr>\n",
              "      <th>count</th>\n",
              "      <td>2200000.000000</td>\n",
              "      <td>2200000.000000</td>\n",
              "      <td>2200000.000000</td>\n",
              "    </tr>\n",
              "    <tr>\n",
              "      <th>mean</th>\n",
              "      <td>549.500000</td>\n",
              "      <td>5999.500000</td>\n",
              "      <td>109.480674</td>\n",
              "    </tr>\n",
              "    <tr>\n",
              "      <th>std</th>\n",
              "      <td>317.542589</td>\n",
              "      <td>577.350328</td>\n",
              "      <td>34.247485</td>\n",
              "    </tr>\n",
              "    <tr>\n",
              "      <th>min</th>\n",
              "      <td>0.000000</td>\n",
              "      <td>5000.000000</td>\n",
              "      <td>-4.928221</td>\n",
              "    </tr>\n",
              "    <tr>\n",
              "      <th>25%</th>\n",
              "      <td>274.750000</td>\n",
              "      <td>5499.750000</td>\n",
              "      <td>82.222922</td>\n",
              "    </tr>\n",
              "    <tr>\n",
              "      <th>50%</th>\n",
              "      <td>549.500000</td>\n",
              "      <td>5999.500000</td>\n",
              "      <td>120.568581</td>\n",
              "    </tr>\n",
              "    <tr>\n",
              "      <th>75%</th>\n",
              "      <td>824.250000</td>\n",
              "      <td>6499.250000</td>\n",
              "      <td>134.873703</td>\n",
              "    </tr>\n",
              "    <tr>\n",
              "      <th>max</th>\n",
              "      <td>1099.000000</td>\n",
              "      <td>6999.000000</td>\n",
              "      <td>196.169026</td>\n",
              "    </tr>\n",
              "  </tbody>\n",
              "</table>\n",
              "</div>"
            ],
            "text/plain": [
              "              row_id        well_id             GR\n",
              "count 2200000.000000 2200000.000000 2200000.000000\n",
              "mean      549.500000    5999.500000     109.480674\n",
              "std       317.542589     577.350328      34.247485\n",
              "min         0.000000    5000.000000      -4.928221\n",
              "25%       274.750000    5499.750000      82.222922\n",
              "50%       549.500000    5999.500000     120.568581\n",
              "75%       824.250000    6499.250000     134.873703\n",
              "max      1099.000000    6999.000000     196.169026"
            ]
          },
          "metadata": {
            "tags": []
          },
          "execution_count": 7
        }
      ]
    },
    {
      "cell_type": "code",
      "metadata": {
        "id": "uQVRtNUMBjT9",
        "colab_type": "code",
        "colab": {}
      },
      "source": [
        "fig, ax = plt.subplots(figsize=(15,15))\n",
        "df_train.hist(ax=ax);"
      ],
      "execution_count": 0,
      "outputs": []
    },
    {
      "cell_type": "code",
      "metadata": {
        "id": "53Nb1bu9REmY",
        "colab_type": "code",
        "colab": {}
      },
      "source": [
        "def plot_cm_and_roc(model, X, y, title=''):\n",
        "  \n",
        "  fig, (ax1, ax2) = plt.subplots(1, 2, figsize=(15,4))\n",
        "  fig.patch.set_facecolor((1.0, 1.0, 1.0))\n",
        "  fig.suptitle(f'{type(model).__name__} {title}')\n",
        "  skl.metrics.plot_confusion_matrix(model, X, y, ax=ax1)\n",
        "  skl.metrics.plot_roc_curve(model, X, y, ax=ax2)\n",
        "  '''\n",
        "  pred_proba = model.predict_proba(X, ntree_limit=model.best_ntree_limit)\n",
        "  fig, (ax1, ax2) = plt.subplots(1, 2, figsize=(15,4))\n",
        "  fig.suptitle(f'{type(model).__name__} {title}')\n",
        "  skplt.metrics.plot_confusion_matrix(y, pred_proba.argmax(axis=1), ax=ax1)\n",
        "  skplt.metrics.plot_roc(y, pred_proba, ax=ax2)\n",
        "  '''\n",
        "  plt.show()\n",
        "\n",
        "def oof_estimate_plot(model):\n",
        "  X_oof, y_off = prepare_data(df_oof)\n",
        "  plot_cm_and_roc(model, X_oof, y_off, 'oof')\n",
        "\n",
        "  if hasattr(model, 'best_ntree_limit'): pred = model.predict_proba(X_oof, ntree_limit=model.best_ntree_limit) \n",
        "  else: pred = model.predict_proba(X_oof)\n",
        "\n",
        "  oof = skl.metrics.roc_auc_score(y_off, pred[:, 1])\n",
        "  del X_oof\n",
        "  return oof\n",
        "\n",
        "def plot_cv_scores(scores):\n",
        "  # plot CV scores\n",
        "  plt.figure()\n",
        "  plt.xlabel('Number of folds')\n",
        "  plt.ylabel('Cross validation score')\n",
        "  plt.plot(range(1, len(scores) + 1), scores)\n",
        "  plt.show()\n",
        "\n",
        "def plot_history(history, metric_names):\n",
        "  hist = pd.DataFrame(history.history)\n",
        "  hist['epoch'] = history.epoch\n",
        "\n",
        "  plt.subplots(figsize=(15,4))\n",
        "\n",
        "  num_plots = len(metric_names)\n",
        "\n",
        "  for i in range(num_plots):\n",
        "    plt.subplot(1,num_plots,i+1)\n",
        "    plt.xlabel('Epoch')\n",
        "    plt.ylabel(metric_names[i])\n",
        "    plt.plot(hist['epoch'], hist[metric_names[i]],\n",
        "            label='Train %s' % metric_names[i])\n",
        "    plt.plot(hist['epoch'], hist['val_%s' % metric_names[i]],\n",
        "            label = 'Val %s' % metric_names[i])\n",
        "    plt.legend()\n",
        "  \n",
        "  plt.show()"
      ],
      "execution_count": 0,
      "outputs": []
    },
    {
      "cell_type": "markdown",
      "metadata": {
        "id": "uHeko8EN8AVU",
        "colab_type": "text"
      },
      "source": [
        "## Neural Networks"
      ]
    },
    {
      "cell_type": "code",
      "metadata": {
        "id": "LJ2HmT3e55k5",
        "colab_type": "code",
        "outputId": "3b6230af-d387-4196-a7b8-99b1b8be63af",
        "colab": {
          "base_uri": "https://localhost:8080/",
          "height": 388
        }
      },
      "source": [
        "def annealing(x, cycle=20, max_lr=1e-2, min_lr=1e-3, epoches=200):\n",
        "  decay_max = (max_lr - min_lr)*(x // cycle)/(epoches // cycle)\n",
        "  max_lr = max_lr - decay_max\n",
        "  decay_min = (min_lr-0)*(x // cycle)/(epoches // cycle)\n",
        "  min_lr = min_lr - decay_min\n",
        "  return min_lr + (max_lr - min_lr) * (1 + math.cos(np.pi * (x % cycle)/cycle)) / 2\n",
        "\n",
        "def onecycle(x, cycle=80, max_lr=1e-2, min_lr=1e-3, epoches=200):\n",
        "  halfcycle = cycle//2\n",
        "  if x > cycle:\n",
        "    lr = ((epoches-x)/epoches*epoches/(epoches-cycle))*(min_lr)\n",
        "  elif x > halfcycle:\n",
        "    lr = ((halfcycle-x)/halfcycle)*(max_lr-min_lr) + max_lr\n",
        "  else:\n",
        "    lr = (x/halfcycle)*(max_lr-min_lr) + min_lr\n",
        "\n",
        "  return lr\n",
        "\n",
        "a = list(range(200))\n",
        "b = [ annealing(x) for x in a ]\n",
        "c = [ onecycle(x) for x in a ]\n",
        "\n",
        "plt.plot(a, b)\n",
        "plt.plot(a, c)"
      ],
      "execution_count": 6,
      "outputs": [
        {
          "output_type": "execute_result",
          "data": {
            "text/plain": [
              "[<matplotlib.lines.Line2D at 0x7f0bf720bba8>]"
            ]
          },
          "metadata": {
            "tags": []
          },
          "execution_count": 6
        },
        {
          "output_type": "display_data",
          "data": {
            "image/png": "[encoded data removed]",
            "text/plain": [
              "<Figure size 432x432 with 1 Axes>"
            ]
          },
          "metadata": {
            "tags": []
          }
        }
      ]
    },
    {
      "cell_type": "code",
      "metadata": {
        "id": "m6VTmfDmbgGJ",
        "colab_type": "code",
        "colab": {}
      },
      "source": [
        "plt.semilogx(history.history[\"lr\"], history.history[\"loss\"])\n",
        "#plt.axis([1e-3, 1e-2, 0, 1])\n",
        "plt.show()\n",
        "plt.plot(history.epoch, history.history[\"lr\"]);\n"
      ],
      "execution_count": 0,
      "outputs": []
    },
    {
      "cell_type": "code",
      "metadata": {
        "id": "VMA0PZyfW9CH",
        "colab_type": "code",
        "colab": {
          "base_uri": "https://localhost:8080/",
          "height": 326
        },
        "outputId": "b8e24fc2-3584-4391-88c0-dcc7a2318dde"
      },
      "source": [
        "!pip3 install keras_self_attention"
      ],
      "execution_count": 38,
      "outputs": [
        {
          "output_type": "stream",
          "text": [
            "Collecting keras_self_attention\n",
            "  Downloading https://files.pythonhosted.org/packages/44/3e/eb1a7c7545eede073ceda2f5d78442b6cad33b5b750d7f0742866907c34b/keras-self-attention-0.42.0.tar.gz\n",
            "Requirement already satisfied: numpy in /tensorflow-2.1.0/python3.6 (from keras_self_attention) (1.17.4)\n",
            "Requirement already satisfied: Keras in /usr/local/lib/python3.6/dist-packages (from keras_self_attention) (2.2.5)\n",
            "Requirement already satisfied: keras-applications>=1.0.8 in /tensorflow-2.1.0/python3.6 (from Keras->keras_self_attention) (1.0.8)\n",
            "Requirement already satisfied: h5py in /tensorflow-2.1.0/python3.6 (from Keras->keras_self_attention) (2.10.0)\n",
            "Requirement already satisfied: six>=1.9.0 in /tensorflow-2.1.0/python3.6 (from Keras->keras_self_attention) (1.13.0)\n",
            "Requirement already satisfied: keras-preprocessing>=1.1.0 in /tensorflow-2.1.0/python3.6 (from Keras->keras_self_attention) (1.1.0)\n",
            "Requirement already satisfied: pyyaml in /usr/local/lib/python3.6/dist-packages (from Keras->keras_self_attention) (3.13)\n",
            "Requirement already satisfied: scipy>=0.14 in /usr/local/lib/python3.6/dist-packages (from Keras->keras_self_attention) (1.3.3)\n",
            "Building wheels for collected packages: keras-self-attention\n",
            "  Building wheel for keras-self-attention (setup.py) ... \u001b[?25l\u001b[?25hdone\n",
            "  Created wheel for keras-self-attention: filename=keras_self_attention-0.42.0-cp36-none-any.whl size=17296 sha256=42ac11a0c3bc4e85fac8cef4d8c59118f17bdf6e1bc89a4341750428f9ab1afe\n",
            "  Stored in directory: /root/.cache/pip/wheels/7b/05/a0/99c0cf60d383f0494e10eca2b238ea98faca9a1fe03cac2894\n",
            "Successfully built keras-self-attention\n",
            "Installing collected packages: keras-self-attention\n",
            "Successfully installed keras-self-attention-0.42.0\n"
          ],
          "name": "stdout"
        }
      ]
    },
    {
      "cell_type": "code",
      "metadata": {
        "id": "50kviE_sA7_b",
        "colab_type": "code",
        "outputId": "eed1f067-7d74-4185-ad4d-f3b0e308892e",
        "colab": {
          "base_uri": "https://localhost:8080/",
          "height": 510
        }
      },
      "source": [
        "from tensorflow.keras.layers import *\n",
        "from tensorflow.keras.models import Sequential, Model\n",
        "from tensorflow.keras.callbacks import ReduceLROnPlateau, Callback, EarlyStopping, LearningRateScheduler, ModelCheckpoint\n",
        "from tensorflow.keras.optimizers import Adam, RMSprop, SGD\n",
        "from tensorflow.keras.regularizers import l2\n",
        "from tensorflow.keras.models import load_model\n",
        "from tensorflow.keras.metrics import AUC\n",
        "from tensorflow.keras.preprocessing.sequence import pad_sequences\n",
        "\n",
        "tf.keras.backend.clear_session()\n",
        "FEATURES_NUM = data.shape[1]-1\n",
        "TARGET_TYPES = 5\n",
        "EPOCHS = 200\n",
        "BS = 50\n",
        "BLOCK=2200\n",
        "\n",
        "X, y = data.iloc[:, 1:], data.iloc[:, :1]\n",
        "#X, _, y, _ = train_test_split(X, y, random_state=RS, shuffle=False, test_size=0.5)\n",
        "X_train, X_cv, y_train, y_cv = train_test_split(X, y, random_state=RS, shuffle=False, test_size=0.1)\n",
        "\n",
        "center, scale = X_train.mean().values, X_train.std().values\n",
        "X_train = (X_train.values - center)/scale\n",
        "X_cv = (X_cv.values - center)/scale\n",
        "\n",
        "y_train = y_train.values.ravel()\n",
        "y_cv = y_cv.values.ravel()\n",
        "\n",
        "#X_train = pad_sequences(X_train, maxlen=BLOCK)\n",
        "X_train = X_train.reshape(-1, BLOCK, FEATURES_NUM)\n",
        "y_train_ = y_train.reshape(-1, BLOCK, 1)\n",
        "\n",
        "#X_cv = pad_sequences(X_train, maxlen=BLOCK)\n",
        "X_cv = X_cv.reshape(-1, BLOCK, FEATURES_NUM)\n",
        "y_cv_ = y_cv.reshape(-1, BLOCK, 1)\n",
        "\n",
        "weight_decay = 0.03\n",
        "'''\n",
        "model = Sequential([\n",
        "    Input(shape=(BLOCK, 1), batch_size=BS),\n",
        "    Bidirectional(GRU(64, return_sequences=True, kernel_regularizer=l2(weight_decay))),\n",
        "    Dropout(0.5), \n",
        "    Bidirectional(GRU(64, return_sequences=True)),\n",
        "    Dropout(0.4), \n",
        "    Bidirectional(GRU(64, return_sequences=True)),\n",
        "    Dropout(0.3), \n",
        "    Bidirectional(GRU(64, return_sequences=True)),\n",
        "    TimeDistributed(Dense(TARGET_TYPES, activation='softmax')),\n",
        "  ])\n",
        "'''\n",
        "\n",
        "inputs = Input(shape=(BLOCK, FEATURES_NUM,), batch_size=BS)\n",
        "#x = Embedding(1000, 64, input_length=BLOCK)(inputs)\n",
        "x = Bidirectional(GRU(64, return_sequences=True, kernel_regularizer=l2(weight_decay)))(inputs)\n",
        "x = Dropout(0.5)(x)\n",
        "x = Bidirectional(GRU(64, return_sequences=True))(x)\n",
        "x = Dropout(0.4)(x)\n",
        "x = Bidirectional(GRU(64, return_sequences=True))(x)\n",
        "x = Dropout(0.3)(x)\n",
        "x = Bidirectional(GRU(64, return_sequences=True))(x)\n",
        "\n",
        "# x, forward_h, backward_h = Bidirectional(GRU(64, return_sequences=True, return_state=True))(x)\n",
        "# state_h = Concatenate()([forward_h, backward_h])\n",
        "# x = Attention(512)([x, state_h])\n",
        "\n",
        "out = Dense(TARGET_TYPES, activation='softmax')(x)\n",
        "model = Model(inputs,out)\n",
        "\n",
        "lr = 1e-2\n",
        "optimizer=Adam(lr=lr) #, amsgrad=False, \n",
        "#optimizer=RMSprop(lr=1e-1)\n",
        "#optimizer=SGD(lr=lr, momentum=0.9)\n",
        "\n",
        "model.compile(optimizer=optimizer,\n",
        "              metrics=[#'sparse_categorical_crossentropy'\n",
        "                      ], \n",
        "              loss='sparse_categorical_crossentropy'\n",
        "              )\n",
        "model.summary()\n",
        "model.reset_states()\n",
        "\n",
        "class ResetStatesCallback(Callback):\n",
        "    def on_batch_begin(self, batch, logs):\n",
        "        self.model.reset_states()\n",
        "\n",
        "lr_schedule = ReduceLROnPlateau(verbose=0, factor=0.2 , patience=10, monitor='val_loss', mode='min')\n",
        "#lr_schedule = LearningRateScheduler(lambda epoch: annealing(epoch, cycle=14, max_lr=lr, min_lr=lr/10, epoches=EPOCHS))\n",
        "#lr_schedule = LearningRateScheduler(lambda epoch: onecycle(epoch, cycle=80, max_lr=lr, min_lr=lr/10, epoches=EPOCHS))\n",
        "\n",
        "early_stop = EarlyStopping( patience=20, monitor='val_loss', mode='min' )\n",
        "model_save = ModelCheckpoint( \"my_checkpoint.h5\", monitor='val_loss', save_best_only=True, mode='min' )\n",
        "reset_states = ResetStatesCallback()\n",
        "\n",
        "history = model.fit(X_train, y_train_,\n",
        "          epochs=EPOCHS,\n",
        "          batch_size=BS,\n",
        "          shuffle=False,\n",
        "          use_multiprocessing=True,\n",
        "          verbose=1,\n",
        "          validation_data=(X_cv, y_cv_),\n",
        "          callbacks=[early_stop, reset_states, model_save, lr_schedule])\n",
        "\n",
        "#plt.semilogx(history.history[\"lr\"], history.history[\"loss\"])\n",
        "#plt.axis([1e-8, 1e-4, 0, 30])\n",
        "\n",
        "model = load_model('my_checkpoint.h5')\n",
        "\n",
        "plot_history(history, model.metrics_names)\n",
        "\n",
        "print(f'train loss: {np.min(history.history[\"loss\"]):.5f} val loss:{np.min(history.history[\"val_loss\"]):.5f}')\n",
        "\n",
        "model.reset_states()\n",
        "\n",
        "cv_pred_proba = model.predict(X_cv, use_multiprocessing=True)\n",
        "cv_pred_proba = cv_pred_proba.reshape(-1, TARGET_TYPES)\n",
        "cv_pred = cv_pred_proba.argmax(axis=1)\n",
        "\n",
        "fig = plt.figure(figsize=(15,4))\n",
        "skplt.metrics.plot_confusion_matrix(y_cv, cv_pred, ax=fig.add_subplot(1, 2, 1))\n",
        "skplt.metrics.plot_roc(y_cv, cv_pred_proba, ax=fig.add_subplot(1, 2, 2))\n",
        "plt.show()"
      ],
      "execution_count": 0,
      "outputs": [
        {
          "output_type": "stream",
          "text": [
            "Model: \"model\"\n",
            "_________________________________________________________________\n",
            "Layer (type)                 Output Shape              Param #   \n",
            "=================================================================\n",
            "input_1 (InputLayer)         [(50, 2200, 1)]           0         \n",
            "_________________________________________________________________\n",
            "bidirectional (Bidirectional (50, 2200, 128)           25344     \n",
            "_________________________________________________________________\n",
            "dropout (Dropout)            (50, 2200, 128)           0         \n",
            "_________________________________________________________________\n",
            "bidirectional_1 (Bidirection (50, 2200, 128)           74112     \n",
            "_________________________________________________________________\n",
            "dropout_1 (Dropout)          (50, 2200, 128)           0         \n",
            "_________________________________________________________________\n",
            "bidirectional_2 (Bidirection (50, 2200, 128)           74112     \n",
            "_________________________________________________________________\n",
            "dropout_2 (Dropout)          (50, 2200, 128)           0         \n",
            "_________________________________________________________________\n",
            "bidirectional_3 (Bidirection (50, 2200, 128)           74112     \n",
            "_________________________________________________________________\n",
            "dense (Dense)                (50, 2200, 5)             645       \n",
            "=================================================================\n",
            "Total params: 248,325\n",
            "Trainable params: 248,325\n",
            "Non-trainable params: 0\n",
            "_________________________________________________________________\n",
            "Train on 1800 samples, validate on 200 samples\n",
            "Epoch 1/200\n",
            " 150/1800 [=>............................] - ETA: 14:53 - loss: 1.5201"
          ],
          "name": "stdout"
        }
      ]
    },
    {
      "cell_type": "code",
      "metadata": {
        "id": "F66PIXChHpiS",
        "colab_type": "code",
        "outputId": "21653ccb-e58b-42ae-f358-375c47a0829e",
        "colab": {
          "base_uri": "https://localhost:8080/",
          "height": 640
        }
      },
      "source": [
        "model = tf.keras.models.load_model('my_checkpoint.h5')\n",
        "model.summary()\n",
        "\n",
        "plot_history(history, model.metrics_names)\n",
        "\n",
        "print(f'BS:{BS} train loss: {np.min(history.history[\"loss\"]):.5f} val loss:{np.min(history.history[\"val_loss\"]):.5f}')\n",
        "\n",
        "model.reset_states()\n",
        "\n",
        "cv_pred_proba = model.predict(X_cv, use_multiprocessing=True)\n",
        "cv_pred_proba = cv_pred_proba.reshape(-1, TARGET_TYPES)\n",
        "cv_pred = cv_pred_proba.argmax(axis=1)\n",
        "\n",
        "fig = plt.figure(figsize=(15,4))\n",
        "ax1 = fig.add_subplot(1, 2, 1)\n",
        "skplt.metrics.plot_confusion_matrix(y_cv, cv_pred, ax=ax1)\n",
        "ax2 = fig.add_subplot(1, 2, 2)\n",
        "skplt.metrics.plot_roc(y_cv, cv_pred_proba, ax=ax2)\n",
        "plt.show()"
      ],
      "execution_count": 28,
      "outputs": [
        {
          "output_type": "stream",
          "text": [
            "Model: \"sequential\"\n",
            "_________________________________________________________________\n",
            "Layer (type)                 Output Shape              Param #   \n",
            "=================================================================\n",
            "bidirectional (Bidirectional (100, 550, 128)           25728     \n",
            "_________________________________________________________________\n",
            "dropout (Dropout)            (100, 550, 128)           0         \n",
            "_________________________________________________________________\n",
            "bidirectional_1 (Bidirection (100, 550, 128)           74496     \n",
            "_________________________________________________________________\n",
            "dropout_1 (Dropout)          (100, 550, 128)           0         \n",
            "_________________________________________________________________\n",
            "bidirectional_2 (Bidirection (100, 550, 128)           74496     \n",
            "_________________________________________________________________\n",
            "dropout_2 (Dropout)          (100, 550, 128)           0         \n",
            "_________________________________________________________________\n",
            "bidirectional_3 (Bidirection (100, 550, 128)           74496     \n",
            "_________________________________________________________________\n",
            "time_distributed (TimeDistri (100, 550, 5)             645       \n",
            "=================================================================\n",
            "Total params: 249,861\n",
            "Trainable params: 249,861\n",
            "Non-trainable params: 0\n",
            "_________________________________________________________________\n"
          ],
          "name": "stdout"
        },
        {
          "output_type": "error",
          "ename": "NameError",
          "evalue": "ignored",
          "traceback": [
            "\u001b[0;31m---------------------------------------------------------------------------\u001b[0m",
            "\u001b[0;31mNameError\u001b[0m                                 Traceback (most recent call last)",
            "\u001b[0;32m<ipython-input-28-9f43c1a3d462>\u001b[0m in \u001b[0;36m<module>\u001b[0;34m()\u001b[0m\n\u001b[1;32m      2\u001b[0m \u001b[0mmodel\u001b[0m\u001b[0;34m.\u001b[0m\u001b[0msummary\u001b[0m\u001b[0;34m(\u001b[0m\u001b[0;34m)\u001b[0m\u001b[0;34m\u001b[0m\u001b[0;34m\u001b[0m\u001b[0m\n\u001b[1;32m      3\u001b[0m \u001b[0;34m\u001b[0m\u001b[0m\n\u001b[0;32m----> 4\u001b[0;31m \u001b[0mplot_history\u001b[0m\u001b[0;34m(\u001b[0m\u001b[0mhistory\u001b[0m\u001b[0;34m,\u001b[0m \u001b[0mmodel\u001b[0m\u001b[0;34m.\u001b[0m\u001b[0mmetrics_names\u001b[0m\u001b[0;34m)\u001b[0m\u001b[0;34m\u001b[0m\u001b[0;34m\u001b[0m\u001b[0m\n\u001b[0m\u001b[1;32m      5\u001b[0m \u001b[0;34m\u001b[0m\u001b[0m\n\u001b[1;32m      6\u001b[0m \u001b[0mprint\u001b[0m\u001b[0;34m(\u001b[0m\u001b[0;34mf'BS:{BS} train loss: {np.min(history.history[\"loss\"]):.5f} val loss:{np.min(history.history[\"val_loss\"]):.5f}'\u001b[0m\u001b[0;34m)\u001b[0m\u001b[0;34m\u001b[0m\u001b[0;34m\u001b[0m\u001b[0m\n",
            "\u001b[0;31mNameError\u001b[0m: name 'history' is not defined"
          ]
        }
      ]
    },
    {
      "cell_type": "code",
      "metadata": {
        "colab_type": "code",
        "outputId": "353483ad-02a8-4542-fd8a-a1b183afd225",
        "id": "RXH2gD0r9k5x",
        "colab": {
          "base_uri": "https://localhost:8080/",
          "height": 979
        }
      },
      "source": [
        "model = keras.models.load_model('my_checkpoint.h5')\n",
        "model.summary()\n",
        "\n",
        "plot_history(history, model.metrics_names)\n",
        "\n",
        "print(f'BS:{BS} train loss: {np.min(history.history[\"loss\"]):.5f} val loss:{np.min(history.history[\"val_loss\"]):.5f}')\n",
        "\n",
        "model.reset_states()\n",
        "\n",
        "cv_pred_proba = model.predict(X_cv, use_multiprocessing=True)\n",
        "cv_pred_proba = cv_pred_proba.reshape(-1, TARGET_TYPES)\n",
        "cv_pred = cv_pred_proba.argmax(axis=1)\n",
        "\n",
        "fig = plt.figure(figsize=(15,4))\n",
        "ax1 = fig.add_subplot(1, 2, 1)\n",
        "skplt.metrics.plot_confusion_matrix(y_cv, cv_pred, ax=ax1)\n",
        "ax2 = fig.add_subplot(1, 2, 2)\n",
        "skplt.metrics.plot_roc(y_cv, cv_pred_proba, ax=ax2)\n",
        "plt.show()"
      ],
      "execution_count": 0,
      "outputs": [
        {
          "output_type": "stream",
          "text": [
            "Model: \"sequential\"\n",
            "_________________________________________________________________\n",
            "Layer (type)                 Output Shape              Param #   \n",
            "=================================================================\n",
            "bidirectional (Bidirectional (200, 1100, 128)          25728     \n",
            "_________________________________________________________________\n",
            "dropout (Dropout)            (200, 1100, 128)          0         \n",
            "_________________________________________________________________\n",
            "bidirectional_1 (Bidirection (200, 1100, 128)          74496     \n",
            "_________________________________________________________________\n",
            "dropout_1 (Dropout)          (200, 1100, 128)          0         \n",
            "_________________________________________________________________\n",
            "bidirectional_2 (Bidirection (200, 1100, 128)          74496     \n",
            "_________________________________________________________________\n",
            "dropout_2 (Dropout)          (200, 1100, 128)          0         \n",
            "_________________________________________________________________\n",
            "bidirectional_3 (Bidirection (200, 1100, 128)          74496     \n",
            "_________________________________________________________________\n",
            "dense (Dense)                (200, 1100, 5)            645       \n",
            "=================================================================\n",
            "Total params: 249,861\n",
            "Trainable params: 249,861\n",
            "Non-trainable params: 0\n",
            "_________________________________________________________________\n"
          ],
          "name": "stdout"
        },
        {
          "output_type": "display_data",
          "data": {
            "image/png": "[encoded data removed]",
            "text/plain": [
              "<Figure size 1080x288 with 1 Axes>"
            ]
          },
          "metadata": {
            "tags": []
          }
        },
        {
          "output_type": "stream",
          "text": [
            "BS:200 train loss: 0.06354 val loss:0.09012\n"
          ],
          "name": "stdout"
        },
        {
          "output_type": "display_data",
          "data": {
            "image/png": "[encoded data removed]",
            "text/plain": [
              "<Figure size 1080x288 with 3 Axes>"
            ]
          },
          "metadata": {
            "tags": []
          }
        }
      ]
    },
    {
      "cell_type": "markdown",
      "metadata": {
        "id": "-oGx7RPEaTW_",
        "colab_type": "text"
      },
      "source": [
        "## Submit RNN Result"
      ]
    },
    {
      "cell_type": "code",
      "metadata": {
        "id": "42hE-rcy6oU3",
        "colab_type": "code",
        "colab": {}
      },
      "source": [
        "X_test = df_test[['GR']]\n",
        "X_test = (X_test.values - center)/scale\n",
        "X_test = X_test.reshape(-1, BLOCK, FEATURES_NUM)\n",
        "\n",
        "model = keras.models.load_model('my_checkpoint.h5')\n",
        "\n",
        "test_pred_proba = model.predict(X_test, use_multiprocessing=True)\n",
        "test_pred_proba = test_pred_proba.reshape(-1, TARGET_TYPES)\n",
        "test_pred = test_pred_proba.argmax(axis=1)\n",
        "\n",
        "pd.DataFrame(test_pred, index=df_test.index, columns=['label']).to_csv('submission.csv')"
      ],
      "execution_count": 0,
      "outputs": []
    },
    {
      "cell_type": "code",
      "metadata": {
        "id": "0IFhO6pL9gUg",
        "colab_type": "code",
        "colab": {}
      },
      "source": [
        "files.download('submission.csv')"
      ],
      "execution_count": 0,
      "outputs": []
    },
    {
      "cell_type": "markdown",
      "metadata": {
        "id": "MTy5JOWs7n4D",
        "colab_type": "text"
      },
      "source": [
        "## Tree models"
      ]
    },
    {
      "cell_type": "code",
      "metadata": {
        "id": "8M_OZqQxQxIf",
        "colab_type": "code",
        "colab": {}
      },
      "source": [
        "\n",
        "X, y = data.iloc[:, 1:], data.iloc[:, :1]\n",
        "\n",
        "X, _, y, _ = train_test_split(X, y, random_state=RS, shuffle=False, test_size=0.8)\n",
        "X, X_oof, y, y_oof = train_test_split(X, y, random_state=RS, shuffle=False, test_size=0.1)\n",
        "\n",
        "\n",
        "n_folds = 2\n",
        "skf = StratifiedKFold(n_splits=n_folds, shuffle=True, random_state=RS)\n",
        "model = XGBClassifier(objective=\"multi:softprob\", random_state=RS)\n",
        "scores = cross_val_score(model, X, y, scoring='roc_auc_ovr', verbose=1, n_jobs=-1, cv=skf)\n",
        "\n",
        "model.fit(X, y,\n",
        "        eval_set=[(X_oof, y_oof)],\n",
        "        early_stopping_rounds=200,\n",
        "        verbose=False,\n",
        "        #eval_metric = 'roc_auc_ovr', \n",
        "        )\n",
        "\n",
        "# estimate OOF\n",
        "oof = oof_estimate_plot(model)\n",
        "print(f'# {type(model).__name__} RS:{RS} {n_folds}x CV: {np.mean(scores):.5f} ± {np.std(scores):.5f} OOF: {oof:.5f} ~{[x for x in FTS if x not in X.columns]}')\n",
        "\n",
        "plot_cv_scores(scores)"
      ],
      "execution_count": 0,
      "outputs": []
    },
    {
      "cell_type": "markdown",
      "metadata": {
        "id": "gbOc51F0fwb7",
        "colab_type": "text"
      },
      "source": [
        "## Submit the result"
      ]
    },
    {
      "cell_type": "code",
      "metadata": {
        "id": "SGRIEBlNaZTg",
        "colab_type": "code",
        "colab": {}
      },
      "source": [
        "X_test = df_test[['GR']]\n",
        "#X_test = (X_test.values - center)/scale\n",
        "\n",
        "test_pred_proba = model.predict_proba(X_test) #, use_multiprocessing=True)\n",
        "test_pred = test_pred_proba.argmax(axis=1)\n",
        "\n",
        "df_test_pred=pd.DataFrame(test_pred, index=df_test.index, columns=['label']).to_csv('submission.csv')\n",
        "df_test_pred"
      ],
      "execution_count": 0,
      "outputs": []
    },
    {
      "cell_type": "code",
      "metadata": {
        "id": "bHMg2IYaJEkb",
        "colab_type": "code",
        "colab": {}
      },
      "source": [
        "def sequential_window_dataset(series, window_size):\n",
        "    series = tf.expand_dims(series, axis=-1)\n",
        "    ds = tf.data.Dataset.from_tensor_slices(series)\n",
        "    ds = ds.window(window_size + 1, shift=window_size, drop_remainder=True)\n",
        "    ds = ds.flat_map(lambda window: window.batch(window_size + 1))\n",
        "    ds = ds.map(lambda window: (window[:-1], window[1:]))\n",
        "    return ds.batch(1).prefetch(1)"
      ],
      "execution_count": 0,
      "outputs": []
    }
  ]
}